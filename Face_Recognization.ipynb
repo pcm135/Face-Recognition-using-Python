{
 "cells": [
  {
   "cell_type": "code",
   "execution_count": 1,
   "id": "6d6c88b8",
   "metadata": {},
   "outputs": [],
   "source": [
    "import cv2\n",
    "import os\n",
    "import numpy as np\n",
    "from PIL import Image"
   ]
  },
  {
   "cell_type": "code",
   "execution_count": 2,
   "id": "b08702a1",
   "metadata": {},
   "outputs": [],
   "source": [
    "def create_user(face_id, face_name):\n",
    "    cam = cv2.VideoCapture(0)\n",
    "    cam.set(3, 640)\n",
    "    cam.set(4, 480)\n",
    "\n",
    "    face_detector = cv2.CascadeClassifier('haarcascade_frontalface_default.xml')\n",
    "\n",
    "    # For each person, enter one numeric face id\n",
    "    fn_dir = 'dataset'\n",
    "    fn_name = face_name  # name of the person\n",
    "    path = os.path.join(fn_dir, fn_name)\n",
    "    if not os.path.isdir(path):\n",
    "        os.mkdir(path)\n",
    "\n",
    "    print(\"\\n[INFO] Initializing face capture...\")\n",
    "    # Initialize individual sampling face count\n",
    "    count = 0\n",
    "\n",
    "    while (True):\n",
    "\n",
    "        ret, img = cam.read()\n",
    "        img = cv2.flip(img, 1)  # flip video image vertically\n",
    "        gray = cv2.cvtColor(img, cv2.COLOR_BGR2GRAY)\n",
    "        faces = face_detector.detectMultiScale(gray, 1.3, 5)\n",
    "\n",
    "        for (x, y, w, h) in faces:\n",
    "            cv2.rectangle(img, (x, y), (x + w, y + h), (255, 0, 0), 2)\n",
    "            count += 1\n",
    "\n",
    "            # Save the captured image into the datasets folder\n",
    "            cv2.imwrite(\"{}/{}.{}.{}{}\".format(path, face_name, face_id, count, \".jpg\"), gray[y:y + h, x:x + w])\n",
    "            cv2.imshow('image', img)\n",
    "\n",
    "        k = cv2.waitKey(100) & 0xff  # Press 'ESC' for exiting video\n",
    "        if k == 27:\n",
    "            break\n",
    "        elif count >= 30:  # Take 30 face sample and stop video\n",
    "            break\n",
    "\n",
    "    print(\"\\n[INFO] Exiting Program...\")\n",
    "    cam.release()\n",
    "    cv2.destroyAllWindows()\n",
    "\n"
   ]
  },
  {
   "cell_type": "code",
   "execution_count": 20,
   "id": "cf4072b1",
   "metadata": {},
   "outputs": [
    {
     "name": "stdout",
     "output_type": "stream",
     "text": [
      "\n",
      "[INFO] Initializing face capture...\n",
      "\n",
      "[INFO] Exiting Program...\n"
     ]
    }
   ],
   "source": [
    "create_user(3, \"Modi Ji\")"
   ]
  },
  {
   "cell_type": "code",
   "execution_count": 21,
   "id": "f9326f05",
   "metadata": {},
   "outputs": [],
   "source": [
    "def train():\n",
    "    database_path = \"dataset\"\n",
    "    img_dirs = [x[0] for x in os.walk(database_path)][1::]\n",
    "\n",
    "    recognizer = cv2.face.LBPHFaceRecognizer_create()\n",
    "    detector = cv2.CascadeClassifier(\"haarcascade_frontalface_default.xml\")\n",
    "\n",
    "    # get the images and label data\n",
    "    faceSamples=[]\n",
    "    ids = []\n",
    "\n",
    "    for path in img_dirs:\n",
    "        path = str(path)\n",
    "        imagePaths = [os.path.join(path,f) for f in os.listdir(path)]\n",
    "\n",
    "\n",
    "        for imagePath in imagePaths:\n",
    "\n",
    "            PIL_img = Image.open(imagePath).convert('L') # convert it to grayscale\n",
    "            img_numpy = np.array(PIL_img,'uint8')\n",
    "\n",
    "            id = int(os.path.split(imagePath)[-1].split(\".\")[1])\n",
    "            faces = detector.detectMultiScale(img_numpy)\n",
    "\n",
    "            for (x,y,w,h) in faces:\n",
    "                faceSamples.append(img_numpy[y:y+h,x:x+w])\n",
    "                ids.append(id)\n",
    "\n",
    "\n",
    "    recognizer.train(faceSamples, np.array(ids))\n",
    "\n",
    "    print (\"\\n[INFO] Training faces. It will take a few seconds. Wait ...\")\n",
    "\n",
    "    # Save the model into trainer/trainer.yml\n",
    "    recognizer.write('trainer.yml')\n",
    "\n",
    "    # Print the numer of faces trained and end program\n",
    "    print(\"\\n[INFO] {0} faces trained. Exiting Program\".format(len(np.unique(ids))))\n",
    "    return len(np.unique(ids))\n"
   ]
  },
  {
   "cell_type": "code",
   "execution_count": 22,
   "id": "a063ddc0",
   "metadata": {},
   "outputs": [
    {
     "name": "stdout",
     "output_type": "stream",
     "text": [
      "\n",
      "[INFO] Training faces. It will take a few seconds. Wait ...\n",
      "\n",
      "[INFO] 3 faces trained. Exiting Program\n"
     ]
    },
    {
     "data": {
      "text/plain": [
       "3"
      ]
     },
     "execution_count": 22,
     "metadata": {},
     "output_type": "execute_result"
    }
   ],
   "source": [
    "train()"
   ]
  },
  {
   "cell_type": "code",
   "execution_count": 23,
   "id": "357f4638",
   "metadata": {},
   "outputs": [],
   "source": [
    "def recognige(names):\n",
    "    recognizer = cv2.face.LBPHFaceRecognizer_create()\n",
    "    recognizer.read('trainer.yml')\n",
    "    cascadePath = \"haarcascade_frontalface_default.xml\"\n",
    "    faceCascade = cv2.CascadeClassifier(cascadePath)\n",
    "\n",
    "    font = cv2.FONT_HERSHEY_SIMPLEX\n",
    "\n",
    "    #iniciate id counter\n",
    "    id = 0\n",
    "    name = \"\"\n",
    "    face_count=0\n",
    "\n",
    "    # Initialize and start realtime video capture\n",
    "    cam = cv2.VideoCapture(0)\n",
    "    cam.set(3, 640) # set video widht\n",
    "    cam.set(4, 480) # set video height\n",
    "\n",
    "    # Define min window size to be recognized as a face\n",
    "    minW = 0.1*cam.get(3)\n",
    "    minH = 0.1*cam.get(4)\n",
    "\n",
    "    while True:\n",
    "\n",
    "        ret, img =cam.read()\n",
    "        img = cv2.flip(img, 1) # Flip vertically\n",
    "\n",
    "        gray = cv2.cvtColor(img,cv2.COLOR_BGR2GRAY)\n",
    "\n",
    "        faces = faceCascade.detectMultiScale(\n",
    "            gray,\n",
    "            scaleFactor = 1.2,\n",
    "            minNeighbors = 5,\n",
    "            minSize = (int(minW), int(minH)),\n",
    "           )\n",
    "\n",
    "        for(x,y,w,h) in faces:\n",
    "\n",
    "            cv2.rectangle(img, (x,y), (x+w,y+h), (0,255,0), 2)\n",
    "\n",
    "            id, confidence = recognizer.predict(gray[y:y+h,x:x+w])\n",
    "            # Check if confidence is less than 100 ==> \"0\" is perfect match\n",
    "            if (confidence < 70):\n",
    "                id = names[id]\n",
    "\n",
    "            else:\n",
    "                id = \"unknown\"\n",
    "                roll = None\n",
    "                confidence = \"  {0}%\".format(round(100 - confidence))\n",
    "                text = \"I can't recognise you.\"\n",
    "\n",
    "            # Logic For Attendance...\n",
    "            if name == id:\n",
    "                face_count += 1\n",
    "                if face_count > 21:\n",
    "                    face_count = -100\n",
    "            else:\n",
    "                name=id\n",
    "                face_count=0\n",
    "\n",
    "            \n",
    "\n",
    "            cv2.putText(img, str(id), (x+5,y-5), font, 1, (255,255,255), 2)\n",
    "#             cv2.putText(img, str(confidence), (x+5,y+h-5), font, 1, (255,255,0), 1)\n",
    "\n",
    "        cv2.imshow('camera',img)\n",
    "\n",
    "        k = cv2.waitKey(10) & 0xff # Press 'ESC' for exiting video\n",
    "        if k == 27:\n",
    "            break\n",
    "\n",
    "    print(\"\\n[INFO] Exiting Program...\")\n",
    "    cam.release()\n",
    "    cv2.destroyAllWindows()\n"
   ]
  },
  {
   "cell_type": "code",
   "execution_count": 25,
   "id": "1b128bf7",
   "metadata": {},
   "outputs": [
    {
     "name": "stdout",
     "output_type": "stream",
     "text": [
      "\n",
      "[INFO] Exiting Program...\n"
     ]
    }
   ],
   "source": [
    "recognige({2:\"Kunal\", 1: \"Purna\",3:\"Summet Sir\"})"
   ]
  },
  {
   "cell_type": "code",
   "execution_count": null,
   "id": "afb6736c",
   "metadata": {},
   "outputs": [],
   "source": []
  }
 ],
 "metadata": {
  "kernelspec": {
   "display_name": "Python 3 (ipykernel)",
   "language": "python",
   "name": "python3"
  },
  "language_info": {
   "codemirror_mode": {
    "name": "ipython",
    "version": 3
   },
   "file_extension": ".py",
   "mimetype": "text/x-python",
   "name": "python",
   "nbconvert_exporter": "python",
   "pygments_lexer": "ipython3",
   "version": "3.9.7"
  }
 },
 "nbformat": 4,
 "nbformat_minor": 5
}
